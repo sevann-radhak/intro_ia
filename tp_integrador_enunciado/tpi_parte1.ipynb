{
  "cells": [
    {
      "attachments": {},
      "cell_type": "markdown",
      "id": "07289bb0",
      "metadata": {},
      "source": [
        "# Trabajo integrador - Parte 1\n",
        "## Python y Numpy\n",
        "\n",
        "**Nombre**:"
      ]
    },
    {
      "cell_type": "code",
      "execution_count": 1,
      "id": "aaf94e0a",
      "metadata": {
        "id": "aaf94e0a"
      },
      "outputs": [],
      "source": [
        "import numpy as np"
      ]
    },
    {
      "attachments": {},
      "cell_type": "markdown",
      "id": "0ffe9554",
      "metadata": {},
      "source": [
        "## Ejercicio 1\n",
        "\n",
        "Dada una matriz en formato *numpy array*, donde cada fila de la matriz representa un vector matemático, se requiere computar las normas $l_0$, $l_1$, $l_2$, $l_{\\infty}$, según la siguientes definiciones:\n",
        "\n",
        "\\begin{equation}\n",
        "    ||\\mathbf{x}||^{p} = \\bigg(\\sum_{j=1}^{n}{|x_i|^p}\\bigg)^{\\frac{1}{p}}\n",
        "\\end{equation}\n",
        "\n",
        "con los casos especiales para $p=0$ y $p=\\infty$ siendo:\n",
        "\n",
        "\\begin{equation}\n",
        "    \\begin{array}{rcl}\n",
        "        ||\\mathbf{x}||_0 & = & \\bigg(\\sum_{j=1 \\wedge x_j != 0}{|x_i|}\\bigg)\\\\\n",
        "        ||\\mathbf{x}||_{\\infty} & = & \\max_{i}{|x_i|}\\\\\n",
        "    \\end{array}\n",
        "\\end{equation}"
      ]
    },
    {
      "cell_type": "code",
      "execution_count": 2,
      "id": "0bdb0ee3",
      "metadata": {},
      "outputs": [
        {
          "name": "stdout",
          "output_type": "stream",
          "text": [
            "Norma l0: [3 3 3]\n",
            "Norma l1: [ 6. 15. 24.]\n",
            "Norma l2: [ 3.74165739  8.77496439 13.92838828]\n",
            "Norma linf: [3 6 9]\n"
          ]
        }
      ],
      "source": [
        "matriz = np.array([[1, 2, 3], [4, 5, 6], [7, 8, 9]])\n",
        "\n",
        "norma_l0 = np.count_nonzero(matriz, axis=1)\n",
        "norma_l1 = np.linalg.norm(matriz, ord=1, axis=1)\n",
        "norma_l2 = np.linalg.norm(matriz, ord=2, axis=1)\n",
        "norma_linf = np.max(np.abs(matriz), axis=1)\n",
        "\n",
        "print(\"Norma l0:\", norma_l0)\n",
        "print(\"Norma l1:\", norma_l1)\n",
        "print(\"Norma l2:\", norma_l2)\n",
        "print(\"Norma linf:\", norma_linf)\n"
      ]
    },
    {
      "attachments": {},
      "cell_type": "markdown",
      "id": "dd66d862",
      "metadata": {},
      "source": [
        "## Ejercicio 2\n",
        "\n",
        "En clasificación contamos con dos arreglos, la “verdad” y la “predicción”. Cada elemento de los arreglos pueden tomar dos valores, “True” (representado por 1) y “False” (representado por 0). Entonces podemos definir 4 variables:\n",
        "\n",
        "* True Positive (TP): El valor verdadero es 1 y el valor predicho es 1\n",
        "* True Negative (TN): El valor verdadero es 0 y el valor predicho es 0\n",
        "* False Positive (FP): El valor verdadero es 0 y el valor predicho es 1\n",
        "* False Negative (FN): El valor verdadero es 1 y el valor predicho es 0\n",
        "\n",
        "A partir de esto definimos:\n",
        "\n",
        "* Precision = TP / (TP + FP)\n",
        "* Recall = TP / (TP + FN)\n",
        "* Accuracy = (TP + TN) / (TP + TN + FP + FN)\n",
        " \n",
        "Calcular las 3 métricas con Numpy y operaciones vectorizadas."
      ]
    },
    {
      "cell_type": "code",
      "execution_count": 3,
      "id": "794dcd58",
      "metadata": {},
      "outputs": [
        {
          "name": "stdout",
          "output_type": "stream",
          "text": [
            "Precision: 0.5\n",
            "Recall: 0.5\n",
            "Accuracy: 0.4\n"
          ]
        }
      ],
      "source": [
        "def calculate_metrics(truth, prediction):\n",
        "    # True Positive\n",
        "    tp = np.sum(np.logical_and(truth == 1, prediction == 1))\n",
        "\n",
        "    # True Negative\n",
        "    tn = np.sum(np.logical_and(truth == 0, prediction == 0))\n",
        "\n",
        "    # False Positive\n",
        "    fp = np.sum(np.logical_and(truth == 0, prediction == 1))\n",
        "\n",
        "    # False Negative\n",
        "    fn = np.sum(np.logical_and(truth == 1, prediction == 0))\n",
        "\n",
        "    precision = tp / (tp + fp) if (tp + fp) != 0 else 0\n",
        "    recall = tp / (tp + fn) if (tp + fn) != 0 else 0\n",
        "    accuracy = (tp + tn) / (tp + tn + fp + fn) if (tp + tn + fp + fn) != 0 else 0\n",
        "\n",
        "    return precision, recall, accuracy\n",
        "\n",
        "truth = np.array([1,1,0,1,1,1,0,0,0,1])\n",
        "prediction = np.array([1,1,1,1,0,0,1,1,0,0])\n",
        "\n",
        "precision, recall, accuracy = calculate_metrics(truth, prediction)\n",
        "\n",
        "print(\"Precision:\", precision)\n",
        "print(\"Recall:\", recall)\n",
        "print(\"Accuracy:\", accuracy)"
      ]
    },
    {
      "attachments": {},
      "cell_type": "markdown",
      "id": "d0ac6f6f",
      "metadata": {},
      "source": [
        "## Ejercicio 3\n",
        "\n",
        "Crear una función que separe los datos en train-validation-test. Debe recibir de parametros:\n",
        "\n",
        "- X: Array o Dataframe que contiene los datos de entrada del sistema.\n",
        "- y: Array o Dataframe que contiene la(s) variable(s) target del problema.\n",
        "- train_percentage: _float_ el porcentaje de training.\n",
        "- test_percentage: _float_ el porcentaje de testing.\n",
        "- val_percentage: _float_ el porcentaje de validación.\n",
        "- shuffle: _bool_ determina si el split debe hacerse de manera random o no.\n",
        "\n",
        "Hints: \n",
        "\n",
        "* Usar Indexing y slicing\n",
        "* Usar np.random.[...]"
      ]
    },
    {
      "cell_type": "code",
      "execution_count": 4,
      "id": "ca85fc66",
      "metadata": {},
      "outputs": [
        {
          "name": "stdout",
          "output_type": "stream",
          "text": [
            "Conjunto de entrenamiento:\n",
            "X_train: [[ 3  4]\n",
            " [ 9 10]\n",
            " [ 5  6]]\n",
            "y_train: [1 0 0]\n",
            "\n",
            "Conjunto de validación:\n",
            "X_val: [[1 2]]\n",
            "y_val: [0]\n",
            "\n",
            "Conjunto de prueba:\n",
            "X_test: [[7 8]]\n",
            "y_test: [1]\n"
          ]
        }
      ],
      "source": [
        "def split(X_input,\n",
        "          Y_input,\n",
        "          train_size=0.7,\n",
        "          val_size=0.15,\n",
        "          test_size=0.15,\n",
        "          random_state=42,\n",
        "          shuffle=True):\n",
        "    \n",
        "    assert train_size + val_size + test_size == 1.0, \"Los tamaños de conjunto deben sumar 1.0\"\n",
        "    \n",
        "    total_samples = len(X_input)\n",
        "    indices = np.arange(total_samples)\n",
        "    if shuffle:\n",
        "        np.random.seed(random_state)\n",
        "        np.random.shuffle(indices)\n",
        "    \n",
        "    train_end = int(total_samples * train_size)\n",
        "    val_end = int(total_samples * (train_size + val_size))\n",
        "    \n",
        "    train_indices = indices[:train_end]\n",
        "    val_indices = indices[train_end:val_end]\n",
        "    test_indices = indices[val_end:]\n",
        "    \n",
        "    X_train, y_train = X_input[train_indices], Y_input[train_indices]\n",
        "    X_val, y_val = X_input[val_indices], Y_input[val_indices]\n",
        "    X_test, y_test = X_input[test_indices], Y_input[test_indices]\n",
        "    \n",
        "    return X_train, y_train, X_val, y_val, X_test, y_test\n",
        "\n",
        "# Ejemplo de uso:\n",
        "X_data = np.array([[1, 2], [3, 4], [5, 6], [7, 8], [9, 10]])\n",
        "y_data = np.array([0, 1, 0, 1, 0])\n",
        "\n",
        "X_train, y_train, X_val, y_val, X_test, y_test = split(X_data, y_data, train_size=0.7, val_size=0.15, test_size=0.15)\n",
        "\n",
        "print(\"Conjunto de entrenamiento:\")\n",
        "print(\"X_train:\", X_train)\n",
        "print(\"y_train:\", y_train)\n",
        "\n",
        "print(\"\\nConjunto de validación:\")\n",
        "print(\"X_val:\", X_val)\n",
        "print(\"y_val:\", y_val)\n",
        "\n",
        "print(\"\\nConjunto de prueba:\")\n",
        "print(\"X_test:\", X_test)\n",
        "print(\"y_test:\", y_test)\n"
      ]
    }
  ],
  "metadata": {
    "colab": {
      "collapsed_sections": [],
      "name": "Practica_clase_3.ipynb",
      "provenance": []
    },
    "kernelspec": {
      "display_name": "Python 3.10.7 64-bit",
      "language": "python",
      "name": "python3"
    },
    "language_info": {
      "codemirror_mode": {
        "name": "ipython",
        "version": 3
      },
      "file_extension": ".py",
      "mimetype": "text/x-python",
      "name": "python",
      "nbconvert_exporter": "python",
      "pygments_lexer": "ipython3",
      "version": "3.12.0"
    },
    "vscode": {
      "interpreter": {
        "hash": "b5c22da4a52024410f64f9c5a5e2b4ffeeb944a5ed00e8825a42174cdab30315"
      }
    }
  },
  "nbformat": 4,
  "nbformat_minor": 5
}
